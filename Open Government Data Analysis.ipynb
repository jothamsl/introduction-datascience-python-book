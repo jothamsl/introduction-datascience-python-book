{
 "cells": [
  {
   "cell_type": "code",
   "execution_count": 63,
   "id": "60f98e2d",
   "metadata": {},
   "outputs": [],
   "source": [
    "import numpy as np\n",
    "import pandas as pd\n",
    "import seaborn as sns\n",
    "import matplotlib.pyplot as plt"
   ]
  },
  {
   "cell_type": "code",
   "execution_count": 64,
   "id": "c4976bb3",
   "metadata": {},
   "outputs": [],
   "source": [
    "sns.set_theme()"
   ]
  },
  {
   "cell_type": "markdown",
   "id": "b4423aa7",
   "metadata": {},
   "source": [
    "## Reading Data"
   ]
  },
  {
   "cell_type": "code",
   "execution_count": 2,
   "id": "6ebb34e0",
   "metadata": {},
   "outputs": [],
   "source": [
    "edu = pd.read_csv(\"./Files & Data/educ_uoe_fine06_linear.csv\", na_values=\":\", usecols=[\"TIME_PERIOD\", \"geo\", \"OBS_VALUE\"])"
   ]
  },
  {
   "cell_type": "code",
   "execution_count": 3,
   "id": "81d044c3",
   "metadata": {},
   "outputs": [
    {
     "data": {
      "text/html": [
       "<div>\n",
       "<style scoped>\n",
       "    .dataframe tbody tr th:only-of-type {\n",
       "        vertical-align: middle;\n",
       "    }\n",
       "\n",
       "    .dataframe tbody tr th {\n",
       "        vertical-align: top;\n",
       "    }\n",
       "\n",
       "    .dataframe thead th {\n",
       "        text-align: right;\n",
       "    }\n",
       "</style>\n",
       "<table border=\"1\" class=\"dataframe\">\n",
       "  <thead>\n",
       "    <tr style=\"text-align: right;\">\n",
       "      <th></th>\n",
       "      <th>geo</th>\n",
       "      <th>TIME_PERIOD</th>\n",
       "      <th>OBS_VALUE</th>\n",
       "    </tr>\n",
       "  </thead>\n",
       "  <tbody>\n",
       "    <tr>\n",
       "      <th>0</th>\n",
       "      <td>AT</td>\n",
       "      <td>2012</td>\n",
       "      <td>0.54</td>\n",
       "    </tr>\n",
       "    <tr>\n",
       "      <th>1</th>\n",
       "      <td>AT</td>\n",
       "      <td>2013</td>\n",
       "      <td>0.55</td>\n",
       "    </tr>\n",
       "    <tr>\n",
       "      <th>2</th>\n",
       "      <td>AT</td>\n",
       "      <td>2014</td>\n",
       "      <td>0.58</td>\n",
       "    </tr>\n",
       "    <tr>\n",
       "      <th>3</th>\n",
       "      <td>AT</td>\n",
       "      <td>2015</td>\n",
       "      <td>0.58</td>\n",
       "    </tr>\n",
       "    <tr>\n",
       "      <th>4</th>\n",
       "      <td>AT</td>\n",
       "      <td>2016</td>\n",
       "      <td>0.60</td>\n",
       "    </tr>\n",
       "  </tbody>\n",
       "</table>\n",
       "</div>"
      ],
      "text/plain": [
       "  geo  TIME_PERIOD  OBS_VALUE\n",
       "0  AT         2012       0.54\n",
       "1  AT         2013       0.55\n",
       "2  AT         2014       0.58\n",
       "3  AT         2015       0.58\n",
       "4  AT         2016       0.60"
      ]
     },
     "execution_count": 3,
     "metadata": {},
     "output_type": "execute_result"
    }
   ],
   "source": [
    "edu.head()"
   ]
  },
  {
   "cell_type": "code",
   "execution_count": 4,
   "id": "70e141a8",
   "metadata": {},
   "outputs": [
    {
     "data": {
      "text/html": [
       "<div>\n",
       "<style scoped>\n",
       "    .dataframe tbody tr th:only-of-type {\n",
       "        vertical-align: middle;\n",
       "    }\n",
       "\n",
       "    .dataframe tbody tr th {\n",
       "        vertical-align: top;\n",
       "    }\n",
       "\n",
       "    .dataframe thead th {\n",
       "        text-align: right;\n",
       "    }\n",
       "</style>\n",
       "<table border=\"1\" class=\"dataframe\">\n",
       "  <thead>\n",
       "    <tr style=\"text-align: right;\">\n",
       "      <th></th>\n",
       "      <th>geo</th>\n",
       "      <th>TIME_PERIOD</th>\n",
       "      <th>OBS_VALUE</th>\n",
       "    </tr>\n",
       "  </thead>\n",
       "  <tbody>\n",
       "    <tr>\n",
       "      <th>4959</th>\n",
       "      <td>UK</td>\n",
       "      <td>2012</td>\n",
       "      <td>0.0</td>\n",
       "    </tr>\n",
       "    <tr>\n",
       "      <th>4960</th>\n",
       "      <td>UK</td>\n",
       "      <td>2013</td>\n",
       "      <td>NaN</td>\n",
       "    </tr>\n",
       "    <tr>\n",
       "      <th>4961</th>\n",
       "      <td>UK</td>\n",
       "      <td>2014</td>\n",
       "      <td>NaN</td>\n",
       "    </tr>\n",
       "    <tr>\n",
       "      <th>4962</th>\n",
       "      <td>UK</td>\n",
       "      <td>2015</td>\n",
       "      <td>NaN</td>\n",
       "    </tr>\n",
       "    <tr>\n",
       "      <th>4963</th>\n",
       "      <td>UK</td>\n",
       "      <td>2016</td>\n",
       "      <td>NaN</td>\n",
       "    </tr>\n",
       "  </tbody>\n",
       "</table>\n",
       "</div>"
      ],
      "text/plain": [
       "     geo  TIME_PERIOD  OBS_VALUE\n",
       "4959  UK         2012        0.0\n",
       "4960  UK         2013        NaN\n",
       "4961  UK         2014        NaN\n",
       "4962  UK         2015        NaN\n",
       "4963  UK         2016        NaN"
      ]
     },
     "execution_count": 4,
     "metadata": {},
     "output_type": "execute_result"
    }
   ],
   "source": [
    "edu.tail()"
   ]
  },
  {
   "cell_type": "code",
   "execution_count": 5,
   "id": "eb606a71",
   "metadata": {},
   "outputs": [
    {
     "data": {
      "text/html": [
       "<div>\n",
       "<style scoped>\n",
       "    .dataframe tbody tr th:only-of-type {\n",
       "        vertical-align: middle;\n",
       "    }\n",
       "\n",
       "    .dataframe tbody tr th {\n",
       "        vertical-align: top;\n",
       "    }\n",
       "\n",
       "    .dataframe thead th {\n",
       "        text-align: right;\n",
       "    }\n",
       "</style>\n",
       "<table border=\"1\" class=\"dataframe\">\n",
       "  <thead>\n",
       "    <tr style=\"text-align: right;\">\n",
       "      <th></th>\n",
       "      <th>TIME_PERIOD</th>\n",
       "      <th>OBS_VALUE</th>\n",
       "    </tr>\n",
       "  </thead>\n",
       "  <tbody>\n",
       "    <tr>\n",
       "      <th>count</th>\n",
       "      <td>4964.000000</td>\n",
       "      <td>4007.000000</td>\n",
       "    </tr>\n",
       "    <tr>\n",
       "      <th>mean</th>\n",
       "      <td>2015.499799</td>\n",
       "      <td>1.023689</td>\n",
       "    </tr>\n",
       "    <tr>\n",
       "      <th>std</th>\n",
       "      <td>2.255716</td>\n",
       "      <td>1.160252</td>\n",
       "    </tr>\n",
       "    <tr>\n",
       "      <th>min</th>\n",
       "      <td>2012.000000</td>\n",
       "      <td>0.000000</td>\n",
       "    </tr>\n",
       "    <tr>\n",
       "      <th>25%</th>\n",
       "      <td>2014.000000</td>\n",
       "      <td>0.370000</td>\n",
       "    </tr>\n",
       "    <tr>\n",
       "      <th>50%</th>\n",
       "      <td>2015.000000</td>\n",
       "      <td>0.740000</td>\n",
       "    </tr>\n",
       "    <tr>\n",
       "      <th>75%</th>\n",
       "      <td>2017.000000</td>\n",
       "      <td>1.160000</td>\n",
       "    </tr>\n",
       "    <tr>\n",
       "      <th>max</th>\n",
       "      <td>2019.000000</td>\n",
       "      <td>7.380000</td>\n",
       "    </tr>\n",
       "  </tbody>\n",
       "</table>\n",
       "</div>"
      ],
      "text/plain": [
       "       TIME_PERIOD    OBS_VALUE\n",
       "count  4964.000000  4007.000000\n",
       "mean   2015.499799     1.023689\n",
       "std       2.255716     1.160252\n",
       "min    2012.000000     0.000000\n",
       "25%    2014.000000     0.370000\n",
       "50%    2015.000000     0.740000\n",
       "75%    2017.000000     1.160000\n",
       "max    2019.000000     7.380000"
      ]
     },
     "execution_count": 5,
     "metadata": {},
     "output_type": "execute_result"
    }
   ],
   "source": [
    "edu.describe()"
   ]
  },
  {
   "cell_type": "markdown",
   "id": "d96da749",
   "metadata": {},
   "source": [
    "## Selecting Data"
   ]
  },
  {
   "cell_type": "code",
   "execution_count": 6,
   "id": "01018c57",
   "metadata": {},
   "outputs": [
    {
     "data": {
      "text/html": [
       "<div>\n",
       "<style scoped>\n",
       "    .dataframe tbody tr th:only-of-type {\n",
       "        vertical-align: middle;\n",
       "    }\n",
       "\n",
       "    .dataframe tbody tr th {\n",
       "        vertical-align: top;\n",
       "    }\n",
       "\n",
       "    .dataframe thead th {\n",
       "        text-align: right;\n",
       "    }\n",
       "</style>\n",
       "<table border=\"1\" class=\"dataframe\">\n",
       "  <thead>\n",
       "    <tr style=\"text-align: right;\">\n",
       "      <th></th>\n",
       "      <th>TIME_PERIOD</th>\n",
       "      <th>OBS_VALUE</th>\n",
       "    </tr>\n",
       "  </thead>\n",
       "  <tbody>\n",
       "    <tr>\n",
       "      <th>90</th>\n",
       "      <td>2015</td>\n",
       "      <td>0.70</td>\n",
       "    </tr>\n",
       "    <tr>\n",
       "      <th>91</th>\n",
       "      <td>2016</td>\n",
       "      <td>0.69</td>\n",
       "    </tr>\n",
       "    <tr>\n",
       "      <th>92</th>\n",
       "      <td>2017</td>\n",
       "      <td>0.70</td>\n",
       "    </tr>\n",
       "    <tr>\n",
       "      <th>93</th>\n",
       "      <td>2018</td>\n",
       "      <td>0.69</td>\n",
       "    </tr>\n",
       "    <tr>\n",
       "      <th>94</th>\n",
       "      <td>2019</td>\n",
       "      <td>0.67</td>\n",
       "    </tr>\n",
       "  </tbody>\n",
       "</table>\n",
       "</div>"
      ],
      "text/plain": [
       "    TIME_PERIOD  OBS_VALUE\n",
       "90         2015       0.70\n",
       "91         2016       0.69\n",
       "92         2017       0.70\n",
       "93         2018       0.69\n",
       "94         2019       0.67"
      ]
     },
     "execution_count": 6,
     "metadata": {},
     "output_type": "execute_result"
    }
   ],
   "source": [
    "# Selecting a subset of columns and rows using the labels \n",
    "# as a reference instead of positions\n",
    "\n",
    "edu.loc[90:94, ['TIME_PERIOD', \"OBS_VALUE\"]]"
   ]
  },
  {
   "cell_type": "markdown",
   "id": "98885eb5",
   "metadata": {},
   "source": [
    "## Filtering Data\n",
    "\n",
    "Another way to select a subset of data is by applying Boolean indexing"
   ]
  },
  {
   "cell_type": "code",
   "execution_count": 7,
   "id": "16b91b06",
   "metadata": {},
   "outputs": [
    {
     "data": {
      "text/html": [
       "<div>\n",
       "<style scoped>\n",
       "    .dataframe tbody tr th:only-of-type {\n",
       "        vertical-align: middle;\n",
       "    }\n",
       "\n",
       "    .dataframe tbody tr th {\n",
       "        vertical-align: top;\n",
       "    }\n",
       "\n",
       "    .dataframe thead th {\n",
       "        text-align: right;\n",
       "    }\n",
       "</style>\n",
       "<table border=\"1\" class=\"dataframe\">\n",
       "  <thead>\n",
       "    <tr style=\"text-align: right;\">\n",
       "      <th></th>\n",
       "      <th>geo</th>\n",
       "      <th>TIME_PERIOD</th>\n",
       "      <th>OBS_VALUE</th>\n",
       "    </tr>\n",
       "  </thead>\n",
       "  <tbody>\n",
       "    <tr>\n",
       "      <th>926</th>\n",
       "      <td>SE</td>\n",
       "      <td>2015</td>\n",
       "      <td>7.05</td>\n",
       "    </tr>\n",
       "    <tr>\n",
       "      <th>927</th>\n",
       "      <td>SE</td>\n",
       "      <td>2016</td>\n",
       "      <td>7.13</td>\n",
       "    </tr>\n",
       "    <tr>\n",
       "      <th>928</th>\n",
       "      <td>SE</td>\n",
       "      <td>2017</td>\n",
       "      <td>7.06</td>\n",
       "    </tr>\n",
       "    <tr>\n",
       "      <th>929</th>\n",
       "      <td>SE</td>\n",
       "      <td>2018</td>\n",
       "      <td>7.18</td>\n",
       "    </tr>\n",
       "    <tr>\n",
       "      <th>930</th>\n",
       "      <td>SE</td>\n",
       "      <td>2019</td>\n",
       "      <td>7.06</td>\n",
       "    </tr>\n",
       "  </tbody>\n",
       "</table>\n",
       "</div>"
      ],
      "text/plain": [
       "    geo  TIME_PERIOD  OBS_VALUE\n",
       "926  SE         2015       7.05\n",
       "927  SE         2016       7.13\n",
       "928  SE         2017       7.06\n",
       "929  SE         2018       7.18\n",
       "930  SE         2019       7.06"
      ]
     },
     "execution_count": 7,
     "metadata": {},
     "output_type": "execute_result"
    }
   ],
   "source": [
    "edu[edu['OBS_VALUE'] > 6.5].tail() # return the last 5 records whose OBS_VALUE is greater than 6.5"
   ]
  },
  {
   "cell_type": "markdown",
   "id": "27043b4b",
   "metadata": {},
   "source": [
    "Boolean indexing uses the result of a Boolean operation over the data, returning a mask with True or False for each row. The rows marked True in the mask will be selected.\n",
    "\n",
    "NOTE: Any of the Boolean operations can be used for filtering: <, <=, >, >=, =, !="
   ]
  },
  {
   "cell_type": "markdown",
   "id": "991039a6",
   "metadata": {},
   "source": [
    "## Filtering Missing Data\n",
    "\n",
    "Pandas uses the special value NaN to represent missing values. In python, NaN is a special floating-point value returned by certain operations when one of their results ends in an undefined value. \n",
    "\n",
    "NOTE: No two NaN are ever equal. Because of this, the only safe way to tell whether a value is missing in a DataFrame is by using the `isnull()` function."
   ]
  },
  {
   "cell_type": "code",
   "execution_count": 8,
   "id": "cdf4d14a",
   "metadata": {},
   "outputs": [
    {
     "data": {
      "text/html": [
       "<div>\n",
       "<style scoped>\n",
       "    .dataframe tbody tr th:only-of-type {\n",
       "        vertical-align: middle;\n",
       "    }\n",
       "\n",
       "    .dataframe tbody tr th {\n",
       "        vertical-align: top;\n",
       "    }\n",
       "\n",
       "    .dataframe thead th {\n",
       "        text-align: right;\n",
       "    }\n",
       "</style>\n",
       "<table border=\"1\" class=\"dataframe\">\n",
       "  <thead>\n",
       "    <tr style=\"text-align: right;\">\n",
       "      <th></th>\n",
       "      <th>geo</th>\n",
       "      <th>TIME_PERIOD</th>\n",
       "      <th>OBS_VALUE</th>\n",
       "    </tr>\n",
       "  </thead>\n",
       "  <tbody>\n",
       "    <tr>\n",
       "      <th>69</th>\n",
       "      <td>EU27_2020</td>\n",
       "      <td>2012</td>\n",
       "      <td>NaN</td>\n",
       "    </tr>\n",
       "    <tr>\n",
       "      <th>70</th>\n",
       "      <td>EU27_2020</td>\n",
       "      <td>2013</td>\n",
       "      <td>NaN</td>\n",
       "    </tr>\n",
       "    <tr>\n",
       "      <th>240</th>\n",
       "      <td>BG</td>\n",
       "      <td>2012</td>\n",
       "      <td>NaN</td>\n",
       "    </tr>\n",
       "    <tr>\n",
       "      <th>241</th>\n",
       "      <td>BG</td>\n",
       "      <td>2013</td>\n",
       "      <td>NaN</td>\n",
       "    </tr>\n",
       "    <tr>\n",
       "      <th>242</th>\n",
       "      <td>BG</td>\n",
       "      <td>2014</td>\n",
       "      <td>NaN</td>\n",
       "    </tr>\n",
       "  </tbody>\n",
       "</table>\n",
       "</div>"
      ],
      "text/plain": [
       "           geo  TIME_PERIOD  OBS_VALUE\n",
       "69   EU27_2020         2012        NaN\n",
       "70   EU27_2020         2013        NaN\n",
       "240         BG         2012        NaN\n",
       "241         BG         2013        NaN\n",
       "242         BG         2014        NaN"
      ]
     },
     "execution_count": 8,
     "metadata": {},
     "output_type": "execute_result"
    }
   ],
   "source": [
    "edu[edu[\"OBS_VALUE\"].isnull()].head() # Return the first 5 records whose \"OBS_VALUE\" is NaN"
   ]
  },
  {
   "cell_type": "markdown",
   "id": "331adf39",
   "metadata": {},
   "source": [
    "## Manipulating Data\n",
    "\n",
    "The most straightforward operations that we can use to manipulate data is to use **aggregation functions**. The result of all these functions applied to a row or column is always a number. If the one of the functions is applied to a DataFrame or a selection of rows and columns, then you can specify if the function should be applied to the the rows for each column (setting the `axis=0` keyword), or is should be applied on the columns for each row (setting the `axis=1` keyword)\n",
    "\n",
    "#### Common aggregation functions\n",
    "\n",
    "| Function | Description| \n",
    "|----------|------------|\n",
    "|count()   | Number of non-null observations|\n",
    "|sum()     |Sum of values|\n",
    "|mean()    | Mean of values|\n",
    "|median()  | Arithmetic median of values|\n",
    "|min()     | Minimum value| \n",
    "|max()     | Maximum value| \n",
    "|prod()    | Product of values|\n",
    "|std()     | Unbiased standard deviation|\n",
    "|var()     | Unbiased variance|\n"
   ]
  },
  {
   "cell_type": "code",
   "execution_count": 9,
   "id": "28e11095",
   "metadata": {},
   "outputs": [
    {
     "data": {
      "text/plain": [
       "geo              UK\n",
       "TIME_PERIOD    2019\n",
       "OBS_VALUE      7.38\n",
       "dtype: object"
      ]
     },
     "execution_count": 9,
     "metadata": {},
     "output_type": "execute_result"
    }
   ],
   "source": [
    "edu.max(axis=0)"
   ]
  },
  {
   "cell_type": "markdown",
   "id": "7d4a19a7",
   "metadata": {},
   "source": [
    "In python, `NaN` values propagate through all operations without raising an exception. In constrast, Pandas operations exclude `NaN` values representing missing data. "
   ]
  },
  {
   "cell_type": "code",
   "execution_count": 10,
   "id": "70e4fa9d",
   "metadata": {},
   "outputs": [
    {
     "name": "stdout",
     "output_type": "stream",
     "text": [
      "Pandas max function:  7.38\n",
      "Python max function:  7.38\n"
     ]
    }
   ],
   "source": [
    "print(\"Pandas max function: \", edu[\"OBS_VALUE\"].max())\n",
    "print(\"Python max function: \", max(edu[\"OBS_VALUE\"])) # Meant to output NaN"
   ]
  },
  {
   "cell_type": "markdown",
   "id": "b591352c",
   "metadata": {},
   "source": [
    "We can apply any function to a DataFrame or Series just setting its name as the argument of the `apply` method."
   ]
  },
  {
   "cell_type": "code",
   "execution_count": 11,
   "id": "f9d5db01",
   "metadata": {},
   "outputs": [
    {
     "data": {
      "text/plain": [
       "0    0.734847\n",
       "1    0.741620\n",
       "2    0.761577\n",
       "3    0.761577\n",
       "4    0.774597\n",
       "Name: OBS_VALUE, dtype: float64"
      ]
     },
     "execution_count": 11,
     "metadata": {},
     "output_type": "execute_result"
    }
   ],
   "source": [
    "s = edu[\"OBS_VALUE\"].apply(np.sqrt)\n",
    "s.head()"
   ]
  },
  {
   "cell_type": "code",
   "execution_count": 12,
   "id": "3e8bdfba",
   "metadata": {},
   "outputs": [
    {
     "data": {
      "text/plain": [
       "0    0.716956\n",
       "1    0.719780\n",
       "2    0.729102\n",
       "3    0.729102\n",
       "4    0.736022\n",
       "Name: OBS_VALUE, dtype: float64"
      ]
     },
     "execution_count": 12,
     "metadata": {},
     "output_type": "execute_result"
    }
   ],
   "source": [
    "# Lambda functions can also be used\n",
    "r = edu[\"OBS_VALUE\"].apply(lambda x: x**x)\n",
    "r.head()"
   ]
  },
  {
   "cell_type": "markdown",
   "id": "2363e7b0",
   "metadata": {},
   "source": [
    "We can add a new column buy using index notation"
   ]
  },
  {
   "cell_type": "code",
   "execution_count": 13,
   "id": "ace9a76f",
   "metadata": {},
   "outputs": [
    {
     "data": {
      "text/html": [
       "<div>\n",
       "<style scoped>\n",
       "    .dataframe tbody tr th:only-of-type {\n",
       "        vertical-align: middle;\n",
       "    }\n",
       "\n",
       "    .dataframe tbody tr th {\n",
       "        vertical-align: top;\n",
       "    }\n",
       "\n",
       "    .dataframe thead th {\n",
       "        text-align: right;\n",
       "    }\n",
       "</style>\n",
       "<table border=\"1\" class=\"dataframe\">\n",
       "  <thead>\n",
       "    <tr style=\"text-align: right;\">\n",
       "      <th></th>\n",
       "      <th>geo</th>\n",
       "      <th>TIME_PERIOD</th>\n",
       "      <th>OBS_VALUE</th>\n",
       "      <th>OBS_VALUE_NORM</th>\n",
       "    </tr>\n",
       "  </thead>\n",
       "  <tbody>\n",
       "    <tr>\n",
       "      <th>0</th>\n",
       "      <td>AT</td>\n",
       "      <td>2012</td>\n",
       "      <td>0.54</td>\n",
       "      <td>0.073171</td>\n",
       "    </tr>\n",
       "    <tr>\n",
       "      <th>1</th>\n",
       "      <td>AT</td>\n",
       "      <td>2013</td>\n",
       "      <td>0.55</td>\n",
       "      <td>0.074526</td>\n",
       "    </tr>\n",
       "    <tr>\n",
       "      <th>2</th>\n",
       "      <td>AT</td>\n",
       "      <td>2014</td>\n",
       "      <td>0.58</td>\n",
       "      <td>0.078591</td>\n",
       "    </tr>\n",
       "    <tr>\n",
       "      <th>3</th>\n",
       "      <td>AT</td>\n",
       "      <td>2015</td>\n",
       "      <td>0.58</td>\n",
       "      <td>0.078591</td>\n",
       "    </tr>\n",
       "    <tr>\n",
       "      <th>4</th>\n",
       "      <td>AT</td>\n",
       "      <td>2016</td>\n",
       "      <td>0.60</td>\n",
       "      <td>0.081301</td>\n",
       "    </tr>\n",
       "  </tbody>\n",
       "</table>\n",
       "</div>"
      ],
      "text/plain": [
       "  geo  TIME_PERIOD  OBS_VALUE  OBS_VALUE_NORM\n",
       "0  AT         2012       0.54        0.073171\n",
       "1  AT         2013       0.55        0.074526\n",
       "2  AT         2014       0.58        0.078591\n",
       "3  AT         2015       0.58        0.078591\n",
       "4  AT         2016       0.60        0.081301"
      ]
     },
     "execution_count": 13,
     "metadata": {},
     "output_type": "execute_result"
    }
   ],
   "source": [
    "edu[\"OBS_VALUE_NORM\"] = edu[\"OBS_VALUE\"]/edu[\"OBS_VALUE\"].max()\n",
    "edu.head()"
   ]
  },
  {
   "cell_type": "markdown",
   "id": "83a6d7bb",
   "metadata": {},
   "source": [
    "To remove the column from the dataset we can use the `drop()` method"
   ]
  },
  {
   "cell_type": "code",
   "execution_count": 14,
   "id": "0c3249ed",
   "metadata": {},
   "outputs": [
    {
     "data": {
      "text/html": [
       "<div>\n",
       "<style scoped>\n",
       "    .dataframe tbody tr th:only-of-type {\n",
       "        vertical-align: middle;\n",
       "    }\n",
       "\n",
       "    .dataframe tbody tr th {\n",
       "        vertical-align: top;\n",
       "    }\n",
       "\n",
       "    .dataframe thead th {\n",
       "        text-align: right;\n",
       "    }\n",
       "</style>\n",
       "<table border=\"1\" class=\"dataframe\">\n",
       "  <thead>\n",
       "    <tr style=\"text-align: right;\">\n",
       "      <th></th>\n",
       "      <th>geo</th>\n",
       "      <th>TIME_PERIOD</th>\n",
       "      <th>OBS_VALUE</th>\n",
       "    </tr>\n",
       "  </thead>\n",
       "  <tbody>\n",
       "    <tr>\n",
       "      <th>0</th>\n",
       "      <td>AT</td>\n",
       "      <td>2012</td>\n",
       "      <td>0.54</td>\n",
       "    </tr>\n",
       "    <tr>\n",
       "      <th>1</th>\n",
       "      <td>AT</td>\n",
       "      <td>2013</td>\n",
       "      <td>0.55</td>\n",
       "    </tr>\n",
       "    <tr>\n",
       "      <th>2</th>\n",
       "      <td>AT</td>\n",
       "      <td>2014</td>\n",
       "      <td>0.58</td>\n",
       "    </tr>\n",
       "    <tr>\n",
       "      <th>3</th>\n",
       "      <td>AT</td>\n",
       "      <td>2015</td>\n",
       "      <td>0.58</td>\n",
       "    </tr>\n",
       "    <tr>\n",
       "      <th>4</th>\n",
       "      <td>AT</td>\n",
       "      <td>2016</td>\n",
       "      <td>0.60</td>\n",
       "    </tr>\n",
       "  </tbody>\n",
       "</table>\n",
       "</div>"
      ],
      "text/plain": [
       "  geo  TIME_PERIOD  OBS_VALUE\n",
       "0  AT         2012       0.54\n",
       "1  AT         2013       0.55\n",
       "2  AT         2014       0.58\n",
       "3  AT         2015       0.58\n",
       "4  AT         2016       0.60"
      ]
     },
     "execution_count": 14,
     "metadata": {},
     "output_type": "execute_result"
    }
   ],
   "source": [
    "edu.drop(\"OBS_VALUE_NORM\", axis=1, inplace = True) # axis=1 removes column, axis=0 remove row (but index must be provided)\n",
    "edu.head()"
   ]
  },
  {
   "cell_type": "markdown",
   "id": "00d126f1",
   "metadata": {},
   "source": [
    "If we want to insert a new row at the bottom of the DataFrame, we can use Pandas' `pd.concat()` function. This function recieves as an argument an array containing the dataframe and new row to be concatenated. This new row is represented as a dictionary where each key represents a column and each value a row. "
   ]
  },
  {
   "cell_type": "code",
   "execution_count": 15,
   "id": "d7f545f5",
   "metadata": {},
   "outputs": [
    {
     "data": {
      "text/html": [
       "<div>\n",
       "<style scoped>\n",
       "    .dataframe tbody tr th:only-of-type {\n",
       "        vertical-align: middle;\n",
       "    }\n",
       "\n",
       "    .dataframe tbody tr th {\n",
       "        vertical-align: top;\n",
       "    }\n",
       "\n",
       "    .dataframe thead th {\n",
       "        text-align: right;\n",
       "    }\n",
       "</style>\n",
       "<table border=\"1\" class=\"dataframe\">\n",
       "  <thead>\n",
       "    <tr style=\"text-align: right;\">\n",
       "      <th></th>\n",
       "      <th>geo</th>\n",
       "      <th>TIME_PERIOD</th>\n",
       "      <th>OBS_VALUE</th>\n",
       "    </tr>\n",
       "  </thead>\n",
       "  <tbody>\n",
       "    <tr>\n",
       "      <th>4960</th>\n",
       "      <td>UK</td>\n",
       "      <td>2013</td>\n",
       "      <td>NaN</td>\n",
       "    </tr>\n",
       "    <tr>\n",
       "      <th>4961</th>\n",
       "      <td>UK</td>\n",
       "      <td>2014</td>\n",
       "      <td>NaN</td>\n",
       "    </tr>\n",
       "    <tr>\n",
       "      <th>4962</th>\n",
       "      <td>UK</td>\n",
       "      <td>2015</td>\n",
       "      <td>NaN</td>\n",
       "    </tr>\n",
       "    <tr>\n",
       "      <th>4963</th>\n",
       "      <td>UK</td>\n",
       "      <td>2016</td>\n",
       "      <td>NaN</td>\n",
       "    </tr>\n",
       "    <tr>\n",
       "      <th>4964</th>\n",
       "      <td>CZ</td>\n",
       "      <td>2011</td>\n",
       "      <td>5.00</td>\n",
       "    </tr>\n",
       "  </tbody>\n",
       "</table>\n",
       "</div>"
      ],
      "text/plain": [
       "     geo TIME_PERIOD OBS_VALUE\n",
       "4960  UK        2013       NaN\n",
       "4961  UK        2014       NaN\n",
       "4962  UK        2015       NaN\n",
       "4963  UK        2016       NaN\n",
       "4964  CZ        2011      5.00"
      ]
     },
     "execution_count": 15,
     "metadata": {},
     "output_type": "execute_result"
    }
   ],
   "source": [
    "new = pd.DataFrame({\"TIME_PERIOD\": [\"2011\"], \"OBS_VALUE\": [\"5.00\"], \"geo\": \"CZ\"})\n",
    "edu = pd.concat([edu, new], ignore_index=True, )\n",
    "edu.tail()"
   ]
  },
  {
   "cell_type": "markdown",
   "id": "d4a34be0",
   "metadata": {},
   "source": [
    "If we want to remove this new row, we can use the `drop()` function again."
   ]
  },
  {
   "cell_type": "code",
   "execution_count": 16,
   "id": "8afa514b",
   "metadata": {},
   "outputs": [
    {
     "data": {
      "text/html": [
       "<div>\n",
       "<style scoped>\n",
       "    .dataframe tbody tr th:only-of-type {\n",
       "        vertical-align: middle;\n",
       "    }\n",
       "\n",
       "    .dataframe tbody tr th {\n",
       "        vertical-align: top;\n",
       "    }\n",
       "\n",
       "    .dataframe thead th {\n",
       "        text-align: right;\n",
       "    }\n",
       "</style>\n",
       "<table border=\"1\" class=\"dataframe\">\n",
       "  <thead>\n",
       "    <tr style=\"text-align: right;\">\n",
       "      <th></th>\n",
       "      <th>geo</th>\n",
       "      <th>TIME_PERIOD</th>\n",
       "      <th>OBS_VALUE</th>\n",
       "    </tr>\n",
       "  </thead>\n",
       "  <tbody>\n",
       "    <tr>\n",
       "      <th>4959</th>\n",
       "      <td>UK</td>\n",
       "      <td>2012</td>\n",
       "      <td>0.0</td>\n",
       "    </tr>\n",
       "    <tr>\n",
       "      <th>4960</th>\n",
       "      <td>UK</td>\n",
       "      <td>2013</td>\n",
       "      <td>NaN</td>\n",
       "    </tr>\n",
       "    <tr>\n",
       "      <th>4961</th>\n",
       "      <td>UK</td>\n",
       "      <td>2014</td>\n",
       "      <td>NaN</td>\n",
       "    </tr>\n",
       "    <tr>\n",
       "      <th>4962</th>\n",
       "      <td>UK</td>\n",
       "      <td>2015</td>\n",
       "      <td>NaN</td>\n",
       "    </tr>\n",
       "    <tr>\n",
       "      <th>4963</th>\n",
       "      <td>UK</td>\n",
       "      <td>2016</td>\n",
       "      <td>NaN</td>\n",
       "    </tr>\n",
       "  </tbody>\n",
       "</table>\n",
       "</div>"
      ],
      "text/plain": [
       "     geo TIME_PERIOD OBS_VALUE\n",
       "4959  UK        2012       0.0\n",
       "4960  UK        2013       NaN\n",
       "4961  UK        2014       NaN\n",
       "4962  UK        2015       NaN\n",
       "4963  UK        2016       NaN"
      ]
     },
     "execution_count": 16,
     "metadata": {},
     "output_type": "execute_result"
    }
   ],
   "source": [
    "edu.drop(max(edu.index), axis = 0, inplace = True)\n",
    "edu.tail()"
   ]
  },
  {
   "cell_type": "markdown",
   "id": "24a7fc64",
   "metadata": {},
   "source": [
    "We can use the `dropna()` method to remove rows with missing values."
   ]
  },
  {
   "cell_type": "markdown",
   "id": "b9b0b8f8",
   "metadata": {},
   "source": [
    "eduDrop = edu.dropna(how=\"any\", subset=[\"OBS_VALUE\"])\n",
    "eduDrop"
   ]
  },
  {
   "cell_type": "markdown",
   "id": "95c97b4d",
   "metadata": {},
   "source": [
    "Conversely, we can use the `fillna()` method to fill them with another value."
   ]
  },
  {
   "cell_type": "code",
   "execution_count": 20,
   "id": "4c659ae5",
   "metadata": {},
   "outputs": [
    {
     "data": {
      "text/html": [
       "<div>\n",
       "<style scoped>\n",
       "    .dataframe tbody tr th:only-of-type {\n",
       "        vertical-align: middle;\n",
       "    }\n",
       "\n",
       "    .dataframe tbody tr th {\n",
       "        vertical-align: top;\n",
       "    }\n",
       "\n",
       "    .dataframe thead th {\n",
       "        text-align: right;\n",
       "    }\n",
       "</style>\n",
       "<table border=\"1\" class=\"dataframe\">\n",
       "  <thead>\n",
       "    <tr style=\"text-align: right;\">\n",
       "      <th></th>\n",
       "      <th>geo</th>\n",
       "      <th>TIME_PERIOD</th>\n",
       "      <th>OBS_VALUE</th>\n",
       "    </tr>\n",
       "  </thead>\n",
       "  <tbody>\n",
       "    <tr>\n",
       "      <th>4959</th>\n",
       "      <td>UK</td>\n",
       "      <td>2012</td>\n",
       "      <td>0.0</td>\n",
       "    </tr>\n",
       "    <tr>\n",
       "      <th>4960</th>\n",
       "      <td>UK</td>\n",
       "      <td>2013</td>\n",
       "      <td>0.0</td>\n",
       "    </tr>\n",
       "    <tr>\n",
       "      <th>4961</th>\n",
       "      <td>UK</td>\n",
       "      <td>2014</td>\n",
       "      <td>0.0</td>\n",
       "    </tr>\n",
       "    <tr>\n",
       "      <th>4962</th>\n",
       "      <td>UK</td>\n",
       "      <td>2015</td>\n",
       "      <td>0.0</td>\n",
       "    </tr>\n",
       "    <tr>\n",
       "      <th>4963</th>\n",
       "      <td>UK</td>\n",
       "      <td>2016</td>\n",
       "      <td>0.0</td>\n",
       "    </tr>\n",
       "  </tbody>\n",
       "</table>\n",
       "</div>"
      ],
      "text/plain": [
       "     geo TIME_PERIOD  OBS_VALUE\n",
       "4959  UK        2012        0.0\n",
       "4960  UK        2013        0.0\n",
       "4961  UK        2014        0.0\n",
       "4962  UK        2015        0.0\n",
       "4963  UK        2016        0.0"
      ]
     },
     "execution_count": 20,
     "metadata": {},
     "output_type": "execute_result"
    }
   ],
   "source": [
    "eduFilled = edu.fillna(value={\"OBS_VALUE\": 0})\n",
    "eduFilled.tail()"
   ]
  },
  {
   "cell_type": "markdown",
   "id": "a9e65cca",
   "metadata": {},
   "source": [
    "## Sorting\n",
    "\n",
    "We can sort a DataFrame using the `sort_values` function"
   ]
  },
  {
   "cell_type": "code",
   "execution_count": 26,
   "id": "9ed9c198",
   "metadata": {},
   "outputs": [
    {
     "data": {
      "text/html": [
       "<div>\n",
       "<style scoped>\n",
       "    .dataframe tbody tr th:only-of-type {\n",
       "        vertical-align: middle;\n",
       "    }\n",
       "\n",
       "    .dataframe tbody tr th {\n",
       "        vertical-align: top;\n",
       "    }\n",
       "\n",
       "    .dataframe thead th {\n",
       "        text-align: right;\n",
       "    }\n",
       "</style>\n",
       "<table border=\"1\" class=\"dataframe\">\n",
       "  <thead>\n",
       "    <tr style=\"text-align: right;\">\n",
       "      <th></th>\n",
       "      <th>geo</th>\n",
       "      <th>TIME_PERIOD</th>\n",
       "      <th>OBS_VALUE</th>\n",
       "    </tr>\n",
       "  </thead>\n",
       "  <tbody>\n",
       "    <tr>\n",
       "      <th>923</th>\n",
       "      <td>SE</td>\n",
       "      <td>2012</td>\n",
       "      <td>7.38</td>\n",
       "    </tr>\n",
       "    <tr>\n",
       "      <th>830</th>\n",
       "      <td>IS</td>\n",
       "      <td>2012</td>\n",
       "      <td>7.24</td>\n",
       "    </tr>\n",
       "    <tr>\n",
       "      <th>929</th>\n",
       "      <td>SE</td>\n",
       "      <td>2018</td>\n",
       "      <td>7.18</td>\n",
       "    </tr>\n",
       "    <tr>\n",
       "      <th>924</th>\n",
       "      <td>SE</td>\n",
       "      <td>2013</td>\n",
       "      <td>7.17</td>\n",
       "    </tr>\n",
       "    <tr>\n",
       "      <th>925</th>\n",
       "      <td>SE</td>\n",
       "      <td>2014</td>\n",
       "      <td>7.14</td>\n",
       "    </tr>\n",
       "  </tbody>\n",
       "</table>\n",
       "</div>"
      ],
      "text/plain": [
       "    geo TIME_PERIOD OBS_VALUE\n",
       "923  SE        2012      7.38\n",
       "830  IS        2012      7.24\n",
       "929  SE        2018      7.18\n",
       "924  SE        2013      7.17\n",
       "925  SE        2014      7.14"
      ]
     },
     "execution_count": 26,
     "metadata": {},
     "output_type": "execute_result"
    }
   ],
   "source": [
    "edu.sort_values(by=\"OBS_VALUE\", ascending=False, inplace=True)\n",
    "edu.head()"
   ]
  },
  {
   "cell_type": "markdown",
   "id": "4ff9d738",
   "metadata": {},
   "source": [
    "Sorting based on `TIME_PERIOD`"
   ]
  },
  {
   "cell_type": "code",
   "execution_count": 28,
   "id": "edec30a2",
   "metadata": {},
   "outputs": [
    {
     "data": {
      "text/html": [
       "<div>\n",
       "<style scoped>\n",
       "    .dataframe tbody tr th:only-of-type {\n",
       "        vertical-align: middle;\n",
       "    }\n",
       "\n",
       "    .dataframe tbody tr th {\n",
       "        vertical-align: top;\n",
       "    }\n",
       "\n",
       "    .dataframe thead th {\n",
       "        text-align: right;\n",
       "    }\n",
       "</style>\n",
       "<table border=\"1\" class=\"dataframe\">\n",
       "  <thead>\n",
       "    <tr style=\"text-align: right;\">\n",
       "      <th></th>\n",
       "      <th>geo</th>\n",
       "      <th>TIME_PERIOD</th>\n",
       "      <th>OBS_VALUE</th>\n",
       "    </tr>\n",
       "  </thead>\n",
       "  <tbody>\n",
       "    <tr>\n",
       "      <th>291</th>\n",
       "      <td>EE</td>\n",
       "      <td>2019</td>\n",
       "      <td>NaN</td>\n",
       "    </tr>\n",
       "    <tr>\n",
       "      <th>7</th>\n",
       "      <td>AT</td>\n",
       "      <td>2019</td>\n",
       "      <td>0.43</td>\n",
       "    </tr>\n",
       "    <tr>\n",
       "      <th>3812</th>\n",
       "      <td>DE</td>\n",
       "      <td>2019</td>\n",
       "      <td>0.15</td>\n",
       "    </tr>\n",
       "    <tr>\n",
       "      <th>2420</th>\n",
       "      <td>MT</td>\n",
       "      <td>2019</td>\n",
       "      <td>1.09</td>\n",
       "    </tr>\n",
       "    <tr>\n",
       "      <th>299</th>\n",
       "      <td>ES</td>\n",
       "      <td>2019</td>\n",
       "      <td>0.16</td>\n",
       "    </tr>\n",
       "  </tbody>\n",
       "</table>\n",
       "</div>"
      ],
      "text/plain": [
       "     geo TIME_PERIOD OBS_VALUE\n",
       "291   EE        2019       NaN\n",
       "7     AT        2019      0.43\n",
       "3812  DE        2019      0.15\n",
       "2420  MT        2019      1.09\n",
       "299   ES        2019      0.16"
      ]
     },
     "execution_count": 28,
     "metadata": {},
     "output_type": "execute_result"
    }
   ],
   "source": [
    "edu.sort_values(by=\"TIME_PERIOD\", ascending=False, inplace=True)\n",
    "edu.head()"
   ]
  },
  {
   "cell_type": "markdown",
   "id": "826beddd",
   "metadata": {},
   "source": [
    "If we want to sort return to the original order, we can sort according to the index using the `sort_index` function and specifying `axis=0`"
   ]
  },
  {
   "cell_type": "code",
   "execution_count": 29,
   "id": "bd1b7e95",
   "metadata": {},
   "outputs": [
    {
     "data": {
      "text/html": [
       "<div>\n",
       "<style scoped>\n",
       "    .dataframe tbody tr th:only-of-type {\n",
       "        vertical-align: middle;\n",
       "    }\n",
       "\n",
       "    .dataframe tbody tr th {\n",
       "        vertical-align: top;\n",
       "    }\n",
       "\n",
       "    .dataframe thead th {\n",
       "        text-align: right;\n",
       "    }\n",
       "</style>\n",
       "<table border=\"1\" class=\"dataframe\">\n",
       "  <thead>\n",
       "    <tr style=\"text-align: right;\">\n",
       "      <th></th>\n",
       "      <th>geo</th>\n",
       "      <th>TIME_PERIOD</th>\n",
       "      <th>OBS_VALUE</th>\n",
       "    </tr>\n",
       "  </thead>\n",
       "  <tbody>\n",
       "    <tr>\n",
       "      <th>0</th>\n",
       "      <td>AT</td>\n",
       "      <td>2012</td>\n",
       "      <td>0.54</td>\n",
       "    </tr>\n",
       "    <tr>\n",
       "      <th>1</th>\n",
       "      <td>AT</td>\n",
       "      <td>2013</td>\n",
       "      <td>0.55</td>\n",
       "    </tr>\n",
       "    <tr>\n",
       "      <th>2</th>\n",
       "      <td>AT</td>\n",
       "      <td>2014</td>\n",
       "      <td>0.58</td>\n",
       "    </tr>\n",
       "    <tr>\n",
       "      <th>3</th>\n",
       "      <td>AT</td>\n",
       "      <td>2015</td>\n",
       "      <td>0.58</td>\n",
       "    </tr>\n",
       "    <tr>\n",
       "      <th>4</th>\n",
       "      <td>AT</td>\n",
       "      <td>2016</td>\n",
       "      <td>0.6</td>\n",
       "    </tr>\n",
       "  </tbody>\n",
       "</table>\n",
       "</div>"
      ],
      "text/plain": [
       "  geo TIME_PERIOD OBS_VALUE\n",
       "0  AT        2012      0.54\n",
       "1  AT        2013      0.55\n",
       "2  AT        2014      0.58\n",
       "3  AT        2015      0.58\n",
       "4  AT        2016       0.6"
      ]
     },
     "execution_count": 29,
     "metadata": {},
     "output_type": "execute_result"
    }
   ],
   "source": [
    "edu.sort_index(axis=0, ascending=True, inplace=True)\n",
    "edu.head()"
   ]
  },
  {
   "cell_type": "markdown",
   "id": "af77c05e",
   "metadata": {},
   "source": [
    "## Grouping Data\n",
    "\n",
    "Another very useful way to inspect data is to group it according to some criteria. Pandas has the `groupby` function that allows us to do exactly this. The value returned by this function is a special grouped DataFrame. To have a proper DataFrame as a result, it is necessary to apply an aggregation function. Thus, this function will be applied to all the values in the same group."
   ]
  },
  {
   "cell_type": "code",
   "execution_count": 38,
   "id": "3561f0c3",
   "metadata": {},
   "outputs": [
    {
     "data": {
      "text/html": [
       "<div>\n",
       "<style scoped>\n",
       "    .dataframe tbody tr th:only-of-type {\n",
       "        vertical-align: middle;\n",
       "    }\n",
       "\n",
       "    .dataframe tbody tr th {\n",
       "        vertical-align: top;\n",
       "    }\n",
       "\n",
       "    .dataframe thead th {\n",
       "        text-align: right;\n",
       "    }\n",
       "</style>\n",
       "<table border=\"1\" class=\"dataframe\">\n",
       "  <thead>\n",
       "    <tr style=\"text-align: right;\">\n",
       "      <th></th>\n",
       "      <th>OBS_VALUE</th>\n",
       "    </tr>\n",
       "    <tr>\n",
       "      <th>geo</th>\n",
       "      <th></th>\n",
       "    </tr>\n",
       "  </thead>\n",
       "  <tbody>\n",
       "    <tr>\n",
       "      <th>AT</th>\n",
       "      <td>1.029191</td>\n",
       "    </tr>\n",
       "    <tr>\n",
       "      <th>BE</th>\n",
       "      <td>1.637426</td>\n",
       "    </tr>\n",
       "    <tr>\n",
       "      <th>BG</th>\n",
       "      <td>0.786763</td>\n",
       "    </tr>\n",
       "    <tr>\n",
       "      <th>CH</th>\n",
       "      <td>1.049239</td>\n",
       "    </tr>\n",
       "    <tr>\n",
       "      <th>CY</th>\n",
       "      <td>1.305760</td>\n",
       "    </tr>\n",
       "  </tbody>\n",
       "</table>\n",
       "</div>"
      ],
      "text/plain": [
       "     OBS_VALUE\n",
       "geo           \n",
       "AT    1.029191\n",
       "BE    1.637426\n",
       "BG    0.786763\n",
       "CH    1.049239\n",
       "CY    1.305760"
      ]
     },
     "execution_count": 38,
     "metadata": {},
     "output_type": "execute_result"
    }
   ],
   "source": [
    "group = edu[[\"geo\", \"OBS_VALUE\"]].groupby(\"geo\").mean()\n",
    "group.head()"
   ]
  },
  {
   "cell_type": "markdown",
   "id": "32b05aba",
   "metadata": {},
   "source": [
    "## Rearrranging Data\n",
    "\n",
    "We can transform the arrangement of our data, redistributing the indexes and columns for better manipulation of our data, which normally lead to better performance. We can rearrange our data using the `pivot_table` function. Here, we can specify which columns will be the new indexes, the new values, and the new columns. \n",
    "\n",
    "For example, imagine that we want to transform our DataFrame to a spreadsheet-like structure with the coutry names as the index, while the columns will be the years starting from 2013 and the values will be the previous `OBS_VALUE` column. To do this, first we need to filter out the data and then pivot it in this way:"
   ]
  },
  {
   "cell_type": "code",
   "execution_count": 44,
   "id": "c6b8b1c7",
   "metadata": {},
   "outputs": [
    {
     "data": {
      "text/html": [
       "<div>\n",
       "<style scoped>\n",
       "    .dataframe tbody tr th:only-of-type {\n",
       "        vertical-align: middle;\n",
       "    }\n",
       "\n",
       "    .dataframe tbody tr th {\n",
       "        vertical-align: top;\n",
       "    }\n",
       "\n",
       "    .dataframe thead th {\n",
       "        text-align: right;\n",
       "    }\n",
       "</style>\n",
       "<table border=\"1\" class=\"dataframe\">\n",
       "  <thead>\n",
       "    <tr style=\"text-align: right;\">\n",
       "      <th>TIME_PERIOD</th>\n",
       "      <th>2013</th>\n",
       "      <th>2014</th>\n",
       "      <th>2015</th>\n",
       "      <th>2016</th>\n",
       "      <th>2017</th>\n",
       "      <th>2018</th>\n",
       "      <th>2019</th>\n",
       "    </tr>\n",
       "    <tr>\n",
       "      <th>geo</th>\n",
       "      <th></th>\n",
       "      <th></th>\n",
       "      <th></th>\n",
       "      <th></th>\n",
       "      <th></th>\n",
       "      <th></th>\n",
       "      <th></th>\n",
       "    </tr>\n",
       "  </thead>\n",
       "  <tbody>\n",
       "    <tr>\n",
       "      <th>AT</th>\n",
       "      <td>1.072941</td>\n",
       "      <td>1.051765</td>\n",
       "      <td>1.054118</td>\n",
       "      <td>1.045294</td>\n",
       "      <td>1.021765</td>\n",
       "      <td>0.988824</td>\n",
       "      <td>0.905882</td>\n",
       "    </tr>\n",
       "    <tr>\n",
       "      <th>BE</th>\n",
       "      <td>1.646154</td>\n",
       "      <td>1.628462</td>\n",
       "      <td>1.611538</td>\n",
       "      <td>1.583077</td>\n",
       "      <td>1.688333</td>\n",
       "      <td>1.675833</td>\n",
       "      <td>1.655833</td>\n",
       "    </tr>\n",
       "    <tr>\n",
       "      <th>BG</th>\n",
       "      <td>0.774444</td>\n",
       "      <td>0.800556</td>\n",
       "      <td>0.747778</td>\n",
       "      <td>0.735000</td>\n",
       "      <td>0.809412</td>\n",
       "      <td>0.859375</td>\n",
       "      <td>0.890000</td>\n",
       "    </tr>\n",
       "    <tr>\n",
       "      <th>CH</th>\n",
       "      <td>0.721000</td>\n",
       "      <td>1.107333</td>\n",
       "      <td>1.114000</td>\n",
       "      <td>1.105333</td>\n",
       "      <td>1.175714</td>\n",
       "      <td>1.107857</td>\n",
       "      <td>NaN</td>\n",
       "    </tr>\n",
       "    <tr>\n",
       "      <th>CY</th>\n",
       "      <td>1.424000</td>\n",
       "      <td>1.403333</td>\n",
       "      <td>1.261176</td>\n",
       "      <td>1.311250</td>\n",
       "      <td>1.323333</td>\n",
       "      <td>1.276000</td>\n",
       "      <td>1.214000</td>\n",
       "    </tr>\n",
       "  </tbody>\n",
       "</table>\n",
       "</div>"
      ],
      "text/plain": [
       "TIME_PERIOD      2013      2014      2015      2016      2017      2018  \\\n",
       "geo                                                                       \n",
       "AT           1.072941  1.051765  1.054118  1.045294  1.021765  0.988824   \n",
       "BE           1.646154  1.628462  1.611538  1.583077  1.688333  1.675833   \n",
       "BG           0.774444  0.800556  0.747778  0.735000  0.809412  0.859375   \n",
       "CH           0.721000  1.107333  1.114000  1.105333  1.175714  1.107857   \n",
       "CY           1.424000  1.403333  1.261176  1.311250  1.323333  1.276000   \n",
       "\n",
       "TIME_PERIOD      2019  \n",
       "geo                    \n",
       "AT           0.905882  \n",
       "BE           1.655833  \n",
       "BG           0.890000  \n",
       "CH                NaN  \n",
       "CY           1.214000  "
      ]
     },
     "execution_count": 44,
     "metadata": {},
     "output_type": "execute_result"
    }
   ],
   "source": [
    "filtered_data = edu[edu[\"TIME_PERIOD\"] > 2012] \n",
    "pivedu = pd.pivot_table(filtered_data, values = \"OBS_VALUE\" , index = [\"geo\"], columns= [\"TIME_PERIOD\"])\n",
    "pivedu.head()"
   ]
  },
  {
   "cell_type": "markdown",
   "id": "a84ed5f3",
   "metadata": {},
   "source": [
    "Now we can use the new index to select specific rows by label, using the `loc` operator:"
   ]
  },
  {
   "cell_type": "code",
   "execution_count": 46,
   "id": "cf4802f6",
   "metadata": {},
   "outputs": [
    {
     "data": {
      "text/html": [
       "<div>\n",
       "<style scoped>\n",
       "    .dataframe tbody tr th:only-of-type {\n",
       "        vertical-align: middle;\n",
       "    }\n",
       "\n",
       "    .dataframe tbody tr th {\n",
       "        vertical-align: top;\n",
       "    }\n",
       "\n",
       "    .dataframe thead th {\n",
       "        text-align: right;\n",
       "    }\n",
       "</style>\n",
       "<table border=\"1\" class=\"dataframe\">\n",
       "  <thead>\n",
       "    <tr style=\"text-align: right;\">\n",
       "      <th>TIME_PERIOD</th>\n",
       "      <th>2014</th>\n",
       "      <th>2018</th>\n",
       "    </tr>\n",
       "    <tr>\n",
       "      <th>geo</th>\n",
       "      <th></th>\n",
       "      <th></th>\n",
       "    </tr>\n",
       "  </thead>\n",
       "  <tbody>\n",
       "    <tr>\n",
       "      <th>UK</th>\n",
       "      <td>1.255625</td>\n",
       "      <td>1.055625</td>\n",
       "    </tr>\n",
       "    <tr>\n",
       "      <th>CY</th>\n",
       "      <td>1.403333</td>\n",
       "      <td>1.276000</td>\n",
       "    </tr>\n",
       "  </tbody>\n",
       "</table>\n",
       "</div>"
      ],
      "text/plain": [
       "TIME_PERIOD      2014      2018\n",
       "geo                            \n",
       "UK           1.255625  1.055625\n",
       "CY           1.403333  1.276000"
      ]
     },
     "execution_count": 46,
     "metadata": {},
     "output_type": "execute_result"
    }
   ],
   "source": [
    "pivedu.loc[[\"UK\", \"CY\"], [2014, 2018]]"
   ]
  },
  {
   "cell_type": "markdown",
   "id": "1c366950",
   "metadata": {},
   "source": [
    "Pivot also offers the option of providing an argument `aggr_function` that allows us to perform an aggregation function between the values if thereis more than one value for the given row and column after the transformation. As usual, you can design any custom function u want, just giving its name or using a lambda function."
   ]
  },
  {
   "cell_type": "markdown",
   "id": "24beaeb4",
   "metadata": {},
   "source": [
    "## Ranking Data\n",
    "\n",
    "Another useful visualization feature is to rank data. To see this, we will use the pandas `rank` function."
   ]
  },
  {
   "cell_type": "code",
   "execution_count": 50,
   "id": "47781d37",
   "metadata": {},
   "outputs": [
    {
     "data": {
      "text/html": [
       "<div>\n",
       "<style scoped>\n",
       "    .dataframe tbody tr th:only-of-type {\n",
       "        vertical-align: middle;\n",
       "    }\n",
       "\n",
       "    .dataframe tbody tr th {\n",
       "        vertical-align: top;\n",
       "    }\n",
       "\n",
       "    .dataframe thead th {\n",
       "        text-align: right;\n",
       "    }\n",
       "</style>\n",
       "<table border=\"1\" class=\"dataframe\">\n",
       "  <thead>\n",
       "    <tr style=\"text-align: right;\">\n",
       "      <th>TIME_PERIOD</th>\n",
       "      <th>2013</th>\n",
       "      <th>2014</th>\n",
       "      <th>2015</th>\n",
       "      <th>2016</th>\n",
       "      <th>2017</th>\n",
       "      <th>2018</th>\n",
       "      <th>2019</th>\n",
       "    </tr>\n",
       "    <tr>\n",
       "      <th>geo</th>\n",
       "      <th></th>\n",
       "      <th></th>\n",
       "      <th></th>\n",
       "      <th></th>\n",
       "      <th></th>\n",
       "      <th></th>\n",
       "      <th></th>\n",
       "    </tr>\n",
       "  </thead>\n",
       "  <tbody>\n",
       "    <tr>\n",
       "      <th>AT</th>\n",
       "      <td>12.0</td>\n",
       "      <td>12.0</td>\n",
       "      <td>11.0</td>\n",
       "      <td>11.0</td>\n",
       "      <td>13.0</td>\n",
       "      <td>14.0</td>\n",
       "      <td>17.0</td>\n",
       "    </tr>\n",
       "    <tr>\n",
       "      <th>BE</th>\n",
       "      <td>2.0</td>\n",
       "      <td>1.0</td>\n",
       "      <td>1.0</td>\n",
       "      <td>1.0</td>\n",
       "      <td>1.0</td>\n",
       "      <td>1.0</td>\n",
       "      <td>1.0</td>\n",
       "    </tr>\n",
       "    <tr>\n",
       "      <th>BG</th>\n",
       "      <td>23.0</td>\n",
       "      <td>23.0</td>\n",
       "      <td>25.0</td>\n",
       "      <td>25.0</td>\n",
       "      <td>21.0</td>\n",
       "      <td>19.0</td>\n",
       "      <td>18.0</td>\n",
       "    </tr>\n",
       "    <tr>\n",
       "      <th>CY</th>\n",
       "      <td>4.0</td>\n",
       "      <td>3.0</td>\n",
       "      <td>7.0</td>\n",
       "      <td>6.0</td>\n",
       "      <td>7.0</td>\n",
       "      <td>7.0</td>\n",
       "      <td>7.0</td>\n",
       "    </tr>\n",
       "    <tr>\n",
       "      <th>CZ</th>\n",
       "      <td>26.0</td>\n",
       "      <td>26.0</td>\n",
       "      <td>23.0</td>\n",
       "      <td>22.0</td>\n",
       "      <td>24.0</td>\n",
       "      <td>22.0</td>\n",
       "      <td>20.0</td>\n",
       "    </tr>\n",
       "  </tbody>\n",
       "</table>\n",
       "</div>"
      ],
      "text/plain": [
       "TIME_PERIOD  2013  2014  2015  2016  2017  2018  2019\n",
       "geo                                                  \n",
       "AT           12.0  12.0  11.0  11.0  13.0  14.0  17.0\n",
       "BE            2.0   1.0   1.0   1.0   1.0   1.0   1.0\n",
       "BG           23.0  23.0  25.0  25.0  21.0  19.0  18.0\n",
       "CY            4.0   3.0   7.0   6.0   7.0   7.0   7.0\n",
       "CZ           26.0  26.0  23.0  22.0  24.0  22.0  20.0"
      ]
     },
     "execution_count": 50,
     "metadata": {},
     "output_type": "execute_result"
    }
   ],
   "source": [
    "pivedu = pivedu.drop([\"EU27_2020\", \"EU28\"], axis=0) \n",
    "pivedu = pivedu.dropna()\n",
    "pivedu.rank(ascending = False, method='first').head()"
   ]
  },
  {
   "cell_type": "code",
   "execution_count": 56,
   "id": "985254e1",
   "metadata": {},
   "outputs": [
    {
     "data": {
      "text/plain": [
       "geo\n",
       "BE    1.0\n",
       "PT    2.0\n",
       "FI    3.0\n",
       "NO    4.0\n",
       "SE    5.0\n",
       "dtype: float64"
      ]
     },
     "execution_count": 56,
     "metadata": {},
     "output_type": "execute_result"
    }
   ],
   "source": [
    "totalSum = pivedu.sum(axis=1)\n",
    "totalSum.rank(ascending = False, method='dense').sort_values().head()"
   ]
  },
  {
   "cell_type": "markdown",
   "id": "11e29038",
   "metadata": {},
   "source": [
    "## Plotting\n",
    "\n",
    "Pandas DataFrames and Series can be plotted using the `plot` function, which uses the library for graphics Matplotlib. If we want to plot the accumulated values for each country over the last 6 years, we can take the Series obtained in the previous example and plot it directly by calling the `plot` function."
   ]
  },
  {
   "cell_type": "code",
   "execution_count": 72,
   "id": "71df5fa7",
   "metadata": {},
   "outputs": [
    {
     "data": {
      "text/plain": [
       "<AxesSubplot:title={'center':'Total Values for Country'}, xlabel='geo'>"
      ]
     },
     "execution_count": 72,
     "metadata": {},
     "output_type": "execute_result"
    },
    {
     "data": {
      "image/png": "[encoded data removed]",
      "text/plain": [
       "<Figure size 864x288 with 1 Axes>"
      ]
     },
     "metadata": {},
     "output_type": "display_data"
    }
   ],
   "source": [
    "totalSum = pivedu.sum(axis=1).sort_values(ascending=False)\n",
    "totalSum.plot(kind=\"bar\", style=\"b\", alpha=0.9, title=\"Total Values for Country\", figsize=(12,4))"
   ]
  },
  {
   "cell_type": "markdown",
   "id": "7eb86886",
   "metadata": {},
   "source": [
    "It is also possible to plot a dataframe directly"
   ]
  },
  {
   "cell_type": "code",
   "execution_count": 75,
   "id": "2de54e70",
   "metadata": {},
   "outputs": [
    {
     "data": {
      "text/plain": [
       "<matplotlib.legend.Legend at 0x7f5742b32e20>"
      ]
     },
     "execution_count": 75,
     "metadata": {},
     "output_type": "execute_result"
    },
    {
     "data": {
      "image/png": "[encoded data removed]",
      "text/plain": [
       "<Figure size 864x720 with 1 Axes>"
      ]
     },
     "metadata": {},
     "output_type": "display_data"
    }
   ],
   "source": [
    "my_colors = [\"b\", 'r', 'g', 'y', 'm', 'c']\n",
    "ax = pivedu.plot(kind='barh', stacked=True, color=my_colors, figsize=(12,10)) \n",
    "ax.legend(loc=\"center left\", bbox_to_anchor = (1, .5))"
   ]
  },
  {
   "cell_type": "code",
   "execution_count": null,
   "id": "42a389a3",
   "metadata": {},
   "outputs": [],
   "source": []
  }
 ],
 "metadata": {
  "kernelspec": {
   "display_name": "Python 3 (ipykernel)",
   "language": "python",
   "name": "python3"
  },
  "language_info": {
   "codemirror_mode": {
    "name": "ipython",
    "version": 3
   },
   "file_extension": ".py",
   "mimetype": "text/x-python",
   "name": "python",
   "nbconvert_exporter": "python",
   "pygments_lexer": "ipython3",
   "version": "3.9.13"
  }
 },
 "nbformat": 4,
 "nbformat_minor": 5
}
